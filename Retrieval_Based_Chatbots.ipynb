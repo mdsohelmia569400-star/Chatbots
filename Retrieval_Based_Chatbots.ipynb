{
  "cells": [
    {
      "cell_type": "code",
      "execution_count": null,
      "metadata": {
        "id": "ctDM4eTbHyRf"
      },
      "outputs": [],
      "source": []
    },
    {
      "cell_type": "code",
      "execution_count": null,
      "metadata": {
        "id": "fdAMSnNEHzti"
      },
      "outputs": [],
      "source": []
    },
    {
      "cell_type": "code",
      "execution_count": 3,
      "metadata": {
        "id": "0gC0W2lXHzzL",
        "colab": {
          "base_uri": "https://localhost:8080/"
        },
        "outputId": "2b0d6290-e885-422b-cd88-dacc26491a67"
      },
      "outputs": [
        {
          "output_type": "stream",
          "name": "stdout",
          "text": [
            "EduBot: Hello! I am EduBot  Would you like to learn about Bangladesh? (yes/no)\n",
            "You: yes\n",
            "EduBot: Do you want to know about Location, Population, Economy, Culture, or Tourist spots,area?\n",
            "You: Tourist spot\n",
            "EduBot: You can also ask me anything freely about Bangladesh.\n",
            "You: Tourist spots\n",
            "EduBot: Tourism in Bangladesh includes attractions like the Sundarbans mangrove forest, Cox’s Bazar beach, Srimangal tea gardens, the ancient ruins of Paharpur, and Saint Martin’s Island.\n",
            "You: Culture\n",
            "EduBot: Culturally, Bangladesh has a rich heritage influenced by Hindu, Buddhist, and Islamic traditions. Festivals such as Pohela Boishakh (Bengali New Year), Eid-ul-Fitr, Eid-ul-Adha, and Durga Puja are widely celebrated.\n",
            "You: bye\n",
            "EduBot: Goodbye! Have a nice day \n"
          ]
        }
      ],
      "source": [
        "from sklearn.feature_extraction.text import TfidfVectorizer\n",
        "from sklearn.metrics.pairwise import cosine_similarity\n",
        "\n",
        "# -------------------------------\n",
        "# 1. Predefined Q&A (Knowledge Base)\n",
        "# -------------------------------\n",
        "qa_pairs = {\n",
        "    \"What is Bangladesh?\": \"Bangladesh is a South Asian country located on the fertile delta of the Ganges, Brahmaputra, and Meghna rivers.\",\n",
        "    \"Where is Bangladesh located?\": \"It is bordered by India on the west, north, and east, Myanmar on the southeast, and the Bay of Bengal to the south.\",\n",
        "    \"What is the area and climate of Bangladesh?\": \"The country covers an area of about 147,570 square kilometers and has a tropical monsoon climate, characterized by hot, humid summers and mild winters with heavy rainfall during the monsoon season.\",\n",
        "    \"What is the population of Bangladesh and its capital?\": \"With a population of over 180 million, Bangladesh is one of the most densely populated countries in the world. Dhaka is the capital and largest city, and Bengali (Bangla) is the official language.\",\n",
        "    \"What is the political system and economy of Bangladesh?\": \"Bangladesh is a parliamentary democracy with a ceremonial president and an executive prime minister. The country is divided into 8 administrative divisions and 64 districts. Economically, it is known for its fast-growing economy, with major industries including ready-made garments, textiles, agriculture, shipbuilding, leather, pharmaceuticals, and information technology.\",\n",
        "    \"What is the culture of Bangladesh like?\": \"Culturally, Bangladesh has a rich heritage influenced by Hindu, Buddhist, and Islamic traditions. Festivals such as Pohela Boishakh (Bengali New Year), Eid-ul-Fitr, Eid-ul-Adha, and Durga Puja are widely celebrated.\",\n",
        "    \"What are some tourist attractions in Bangladesh?\": \"Tourism in Bangladesh includes attractions like the Sundarbans mangrove forest, Cox’s Bazar beach, Srimangal tea gardens, the ancient ruins of Paharpur, and Saint Martin’s Island.\"\n",
        "}\n",
        "\n",
        "questions = list(qa_pairs.keys())\n",
        "answers = list(qa_pairs.values())\n",
        "\n",
        "# TF-IDF Vectorizer\n",
        "vectorizer = TfidfVectorizer()\n",
        "tfidf_matrix = vectorizer.fit_transform([q.lower() for q in questions])\n",
        "\n",
        "def retrieval_response(user_input):\n",
        "    \"\"\"TF-IDF + Cosine Similarity Answering\"\"\"\n",
        "    user_tfidf = vectorizer.transform([user_input.lower()])\n",
        "    similarity = cosine_similarity(user_tfidf, tfidf_matrix)\n",
        "    idx = similarity.argmax()\n",
        "    score = similarity[0, idx]\n",
        "    if score < 0.3:\n",
        "        return None\n",
        "    return answers[idx]\n",
        "\n",
        "# -------------------------------\n",
        "# 2. Sequential Flow\n",
        "# -------------------------------\n",
        "conversation_flow = [\n",
        "    \"Hello! I am EduBot  Would you like to learn about Bangladesh? (yes/no)\",\n",
        "    \"Do you want to know about Location, Population, Economy, Culture, or Tourist spots,area?\",\n",
        "    \"You can also ask me anything freely about Bangladesh.\"\n",
        "]\n",
        "\n",
        "step = 0\n",
        "\n",
        "# -------------------------------\n",
        "# 3. Chat Loop\n",
        "# -------------------------------\n",
        "print(\"EduBot:\", conversation_flow[step])\n",
        "\n",
        "while True:\n",
        "    user = input(\"You: \").lower()\n",
        "\n",
        "    if \"bye\" in user:\n",
        "        print(\"EduBot: Goodbye! Have a nice day \")\n",
        "        break\n",
        "\n",
        "    # Step-based flow\n",
        "    if step < len(conversation_flow) - 1:\n",
        "        step += 1\n",
        "        print(\"EduBot:\", conversation_flow[step])\n",
        "        continue\n",
        "\n",
        "    # Retrieval-based answer\n",
        "    response = retrieval_response(user)\n",
        "    if response:\n",
        "        print(\"EduBot:\", response)\n",
        "    else:\n",
        "        print(\"EduBot: Sorry, I don’t understand that. Please try again.\")\n"
      ]
    },
    {
      "cell_type": "code",
      "execution_count": null,
      "metadata": {
        "id": "KrgZEIf3Hz18"
      },
      "outputs": [],
      "source": []
    },
    {
      "cell_type": "code",
      "execution_count": null,
      "metadata": {
        "id": "a4LWemnDHyLt"
      },
      "outputs": [],
      "source": []
    },
    {
      "cell_type": "code",
      "execution_count": null,
      "metadata": {
        "id": "gowqKyCrHyJU"
      },
      "outputs": [],
      "source": []
    },
    {
      "cell_type": "code",
      "execution_count": null,
      "metadata": {
        "id": "5K-3AXFUHyGr"
      },
      "outputs": [],
      "source": []
    },
    {
      "cell_type": "code",
      "execution_count": null,
      "metadata": {
        "id": "M5HxE63fHyDu"
      },
      "outputs": [],
      "source": []
    },
    {
      "cell_type": "code",
      "execution_count": null,
      "metadata": {
        "id": "Ep3tEj7GHyAr"
      },
      "outputs": [],
      "source": []
    }
  ],
  "metadata": {
    "colab": {
      "provenance": []
    },
    "kernelspec": {
      "display_name": "Python 3",
      "name": "python3"
    },
    "language_info": {
      "name": "python"
    }
  },
  "nbformat": 4,
  "nbformat_minor": 0
}